{
 "cells": [
  {
   "cell_type": "code",
   "execution_count": 5,
   "metadata": {},
   "outputs": [
    {
     "name": "stderr",
     "output_type": "stream",
     "text": [
      "Matplotlib is building the font cache; this may take a moment.\n"
     ]
    }
   ],
   "source": [
    "import pandas as pd\n",
    "import numpy as np\n",
    "import matplotlib.pyplot as plt\n",
    "import seaborn as sns"
   ]
  },
  {
   "cell_type": "code",
   "execution_count": 6,
   "metadata": {},
   "outputs": [
    {
     "name": "stdout",
     "output_type": "stream",
     "text": [
      "Error: Missing optional dependency 'openpyxl'.  Use pip or conda to install openpyxl.\n"
     ]
    }
   ],
   "source": [
    "file_path = 'dataset.xlsx'\n",
    "try:\n",
    "    sheets = pd.read_excel(file_path, sheet_name=None)\n",
    "\n",
    "    lecturer_details = sheets.get('Lecturer Details', pd.DataFrame())\n",
    "    rooms_data = sheets.get('Rooms Data', pd.DataFrame())\n",
    "    courses_data = sheets.get('Courses Data', pd.DataFrame())\n",
    "    student_requests = sheets.get('Lecture Requests', pd.DataFrame)\n",
    "\n",
    "    print(\"Successfully loaded all data sheets\")\n",
    "\n",
    "    print(\"\\n--- Lecturer Details ---\")\n",
    "    print(f\"Shape: {lecturer_details.shape}\")\n",
    "    display(lecturer_details.head())\n",
    "\n",
    "    print(\"\\n--- Rooms Data ---\")\n",
    "    print(f\"Shape: {rooms_data.shape}\")\n",
    "    display(rooms_data.head())\n",
    "\n",
    "    print(\"\\n--- Courses Data  ---\")\n",
    "    print(f\"Shape: {courses_data.shape}\")\n",
    "    display(courses_data.head())\n",
    "\n",
    "    print(\"\\n--- Student Requests ---\")\n",
    "    print(f\"Shape: {student_requests.shape}\")\n",
    "    display(student_requests.head())\n",
    "\n",
    "except FileNotFoundError:\n",
    "    print(f\"Error: The file  '{file_path}' was not found.\")\n",
    "except Exception as e:\n",
    "    print(f\"Error: {str(e)}\")"
   ]
  }
 ],
 "metadata": {
  "kernelspec": {
   "display_name": "Python 3",
   "language": "python",
   "name": "python3"
  },
  "language_info": {
   "codemirror_mode": {
    "name": "ipython",
    "version": 3
   },
   "file_extension": ".py",
   "mimetype": "text/x-python",
   "name": "python",
   "nbconvert_exporter": "python",
   "pygments_lexer": "ipython3",
   "version": "3.12.2"
  }
 },
 "nbformat": 4,
 "nbformat_minor": 2
}
